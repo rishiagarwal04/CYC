{
 "cells": [
  {
   "cell_type": "code",
   "execution_count": 24,
   "id": "39a39364",
   "metadata": {},
   "outputs": [],
   "source": [
    "import numpy as np \n",
    "import matplotlib.pyplot as plt\n",
    "import pandas as pd"
   ]
  },
  {
   "cell_type": "code",
   "execution_count": 25,
   "id": "b59dad0f",
   "metadata": {},
   "outputs": [],
   "source": [
    "df = pd.read_csv(\"extended_career_dataset_9_10_students.csv\")"
   ]
  },
  {
   "cell_type": "code",
   "execution_count": 26,
   "id": "1707900c",
   "metadata": {},
   "outputs": [
    {
     "data": {
      "text/html": [
       "<div>\n",
       "<style scoped>\n",
       "    .dataframe tbody tr th:only-of-type {\n",
       "        vertical-align: middle;\n",
       "    }\n",
       "\n",
       "    .dataframe tbody tr th {\n",
       "        vertical-align: top;\n",
       "    }\n",
       "\n",
       "    .dataframe thead th {\n",
       "        text-align: right;\n",
       "    }\n",
       "</style>\n",
       "<table border=\"1\" class=\"dataframe\">\n",
       "  <thead>\n",
       "    <tr style=\"text-align: right;\">\n",
       "      <th></th>\n",
       "      <th>Interest</th>\n",
       "      <th>Qualifications</th>\n",
       "      <th>Courses done</th>\n",
       "      <th>Skills</th>\n",
       "      <th>Want to pursue</th>\n",
       "      <th>Future career path (subject to be taken)</th>\n",
       "    </tr>\n",
       "  </thead>\n",
       "  <tbody>\n",
       "    <tr>\n",
       "      <th>0</th>\n",
       "      <td>Social Work</td>\n",
       "      <td>9th Grade</td>\n",
       "      <td>Civics Workshop</td>\n",
       "      <td>Empathy</td>\n",
       "      <td>NGO Work</td>\n",
       "      <td>Humanities</td>\n",
       "    </tr>\n",
       "    <tr>\n",
       "      <th>1</th>\n",
       "      <td>Biology</td>\n",
       "      <td>10th Grade</td>\n",
       "      <td>Biology Basics</td>\n",
       "      <td>Observation</td>\n",
       "      <td>Medical</td>\n",
       "      <td>PCB</td>\n",
       "    </tr>\n",
       "    <tr>\n",
       "      <th>2</th>\n",
       "      <td>Technology</td>\n",
       "      <td>10th Grade</td>\n",
       "      <td>Intro to Coding</td>\n",
       "      <td>Problem Solving</td>\n",
       "      <td>Computer Science</td>\n",
       "      <td>CS with PCM</td>\n",
       "    </tr>\n",
       "    <tr>\n",
       "      <th>3</th>\n",
       "      <td>Business</td>\n",
       "      <td>10th Grade</td>\n",
       "      <td>Commerce Introduction</td>\n",
       "      <td>Communication</td>\n",
       "      <td>Entrepreneurship</td>\n",
       "      <td>Commerce</td>\n",
       "    </tr>\n",
       "    <tr>\n",
       "      <th>4</th>\n",
       "      <td>Arts</td>\n",
       "      <td>9th Grade</td>\n",
       "      <td>Drawing Course</td>\n",
       "      <td>Creativity</td>\n",
       "      <td>Fine Arts</td>\n",
       "      <td>Humanities with Arts</td>\n",
       "    </tr>\n",
       "  </tbody>\n",
       "</table>\n",
       "</div>"
      ],
      "text/plain": [
       "      Interest Qualifications           Courses done           Skills  \\\n",
       "0  Social Work      9th Grade        Civics Workshop          Empathy   \n",
       "1      Biology     10th Grade         Biology Basics      Observation   \n",
       "2   Technology     10th Grade        Intro to Coding  Problem Solving   \n",
       "3     Business     10th Grade  Commerce Introduction    Communication   \n",
       "4         Arts      9th Grade         Drawing Course       Creativity   \n",
       "\n",
       "     Want to pursue Future career path (subject to be taken)  \n",
       "0          NGO Work                               Humanities  \n",
       "1           Medical                                      PCB  \n",
       "2  Computer Science                              CS with PCM  \n",
       "3  Entrepreneurship                                 Commerce  \n",
       "4         Fine Arts                     Humanities with Arts  "
      ]
     },
     "execution_count": 26,
     "metadata": {},
     "output_type": "execute_result"
    }
   ],
   "source": [
    "df.head()"
   ]
  },
  {
   "cell_type": "code",
   "execution_count": 27,
   "id": "95d8ac8f",
   "metadata": {},
   "outputs": [
    {
     "data": {
      "text/plain": [
       "array(['Social Work', 'Biology', 'Technology', 'Business', 'Arts',\n",
       "       'Programming', 'Mathematics', 'Sports', 'Science', 'Design'],\n",
       "      dtype=object)"
      ]
     },
     "execution_count": 27,
     "metadata": {},
     "output_type": "execute_result"
    }
   ],
   "source": [
    "df[\"Interest\"].unique()"
   ]
  },
  {
   "cell_type": "code",
   "execution_count": 28,
   "id": "800e9695",
   "metadata": {},
   "outputs": [
    {
     "data": {
      "text/plain": [
       "array(['9th Grade', '10th Grade', 'High School', 'Postgraduate'],\n",
       "      dtype=object)"
      ]
     },
     "execution_count": 28,
     "metadata": {},
     "output_type": "execute_result"
    }
   ],
   "source": [
    "df[\"Qualifications\"].unique()"
   ]
  },
  {
   "cell_type": "code",
   "execution_count": 29,
   "id": "47e612a5",
   "metadata": {},
   "outputs": [
    {
     "data": {
      "text/plain": [
       "array(['Civics Workshop', 'Biology Basics', 'Intro to Coding',\n",
       "       'Commerce Introduction', 'Drawing Course', 'Python Basics',\n",
       "       'Vedic Maths', 'Sports Training', 'Basic Science',\n",
       "       'Graphic Design Intro', 'Community Service', 'Advanced Biology',\n",
       "       'Web Development', 'Economics', 'Java Fundamentals', 'Calculus',\n",
       "       'Portfolio Development', 'Physics Lab', 'Policy Analysis',\n",
       "       'Genomics', 'Quantum Computing', 'MBA', 'Neural Networks',\n",
       "       'Cryptography', 'Digital Media', 'Nanotechnology'], dtype=object)"
      ]
     },
     "execution_count": 29,
     "metadata": {},
     "output_type": "execute_result"
    }
   ],
   "source": [
    "df[\"Courses done\"].unique()"
   ]
  },
  {
   "cell_type": "code",
   "execution_count": 30,
   "id": "46d21160",
   "metadata": {},
   "outputs": [
    {
     "data": {
      "text/plain": [
       "array(['Empathy', 'Observation', 'Problem Solving', 'Communication',\n",
       "       'Creativity', 'Coding', 'Logical Reasoning', 'Teamwork',\n",
       "       'Analytical Thinking', 'Aesthetic Sense', 'Leadership', 'Research',\n",
       "       'Analysis', 'Algorithm Design', 'Visualization',\n",
       "       'Experimental Skills', 'Strategic Planning',\n",
       "       'Specialized Research', 'Innovation', 'Advanced Modeling',\n",
       "       'Advanced Problem Solving', 'Technical Creativity', 'Precision'],\n",
       "      dtype=object)"
      ]
     },
     "execution_count": 30,
     "metadata": {},
     "output_type": "execute_result"
    }
   ],
   "source": [
    "df[\"Skills\"].unique()"
   ]
  },
  {
   "cell_type": "code",
   "execution_count": 31,
   "id": "6c1c5e12",
   "metadata": {},
   "outputs": [
    {
     "data": {
      "text/plain": [
       "array(['NGO Work', 'Medical', 'Computer Science', 'Entrepreneurship',\n",
       "       'Fine Arts', 'Software Developer', 'Statistics', 'Athletics',\n",
       "       'Engineering', 'UX Designer', 'Social Worker', 'Biotechnology',\n",
       "       'IT Specialist', 'Business Management', 'App Developer',\n",
       "       'Data Science', 'Art Director', 'Research Scientist',\n",
       "       'UN Consultant', 'Clinical Geneticist', 'CEO', 'AI Researcher',\n",
       "       'Quant Analyst', 'Creative Director', 'Research Lead'],\n",
       "      dtype=object)"
      ]
     },
     "execution_count": 31,
     "metadata": {},
     "output_type": "execute_result"
    }
   ],
   "source": [
    "df[\"Want to pursue\"].unique()"
   ]
  },
  {
   "cell_type": "code",
   "execution_count": 32,
   "id": "24cff3a2",
   "metadata": {},
   "outputs": [],
   "source": [
    "from sklearn.preprocessing import LabelEncoder\n",
    "le = LabelEncoder()\n",
    "columns = [\"Interest\" , \"Qualifications\" , \"Courses done\" , \"Skills\", \"Want to pursue\"]\n",
    "\n",
    "for items in columns:\n",
    "    df[items] = le.fit_transform(df[items])\n"
   ]
  },
  {
   "cell_type": "code",
   "execution_count": 33,
   "id": "90fd3027",
   "metadata": {},
   "outputs": [
    {
     "data": {
      "text/plain": [
       "(26, 6)"
      ]
     },
     "execution_count": 33,
     "metadata": {},
     "output_type": "execute_result"
    }
   ],
   "source": [
    "df.shape"
   ]
  },
  {
   "cell_type": "code",
   "execution_count": 34,
   "id": "519984d4",
   "metadata": {},
   "outputs": [
    {
     "data": {
      "text/html": [
       "<div>\n",
       "<style scoped>\n",
       "    .dataframe tbody tr th:only-of-type {\n",
       "        vertical-align: middle;\n",
       "    }\n",
       "\n",
       "    .dataframe tbody tr th {\n",
       "        vertical-align: top;\n",
       "    }\n",
       "\n",
       "    .dataframe thead th {\n",
       "        text-align: right;\n",
       "    }\n",
       "</style>\n",
       "<table border=\"1\" class=\"dataframe\">\n",
       "  <thead>\n",
       "    <tr style=\"text-align: right;\">\n",
       "      <th></th>\n",
       "      <th>Interest</th>\n",
       "      <th>Qualifications</th>\n",
       "      <th>Courses done</th>\n",
       "      <th>Skills</th>\n",
       "      <th>Want to pursue</th>\n",
       "      <th>Future career path (subject to be taken)</th>\n",
       "    </tr>\n",
       "  </thead>\n",
       "  <tbody>\n",
       "    <tr>\n",
       "      <th>0</th>\n",
       "      <td>7</td>\n",
       "      <td>1</td>\n",
       "      <td>4</td>\n",
       "      <td>9</td>\n",
       "      <td>16</td>\n",
       "      <td>Humanities</td>\n",
       "    </tr>\n",
       "    <tr>\n",
       "      <th>1</th>\n",
       "      <td>1</td>\n",
       "      <td>0</td>\n",
       "      <td>2</td>\n",
       "      <td>14</td>\n",
       "      <td>15</td>\n",
       "      <td>PCB</td>\n",
       "    </tr>\n",
       "    <tr>\n",
       "      <th>2</th>\n",
       "      <td>9</td>\n",
       "      <td>0</td>\n",
       "      <td>13</td>\n",
       "      <td>16</td>\n",
       "      <td>8</td>\n",
       "      <td>CS with PCM</td>\n",
       "    </tr>\n",
       "    <tr>\n",
       "      <th>3</th>\n",
       "      <td>2</td>\n",
       "      <td>0</td>\n",
       "      <td>5</td>\n",
       "      <td>7</td>\n",
       "      <td>12</td>\n",
       "      <td>Commerce</td>\n",
       "    </tr>\n",
       "    <tr>\n",
       "      <th>4</th>\n",
       "      <td>0</td>\n",
       "      <td>1</td>\n",
       "      <td>9</td>\n",
       "      <td>8</td>\n",
       "      <td>13</td>\n",
       "      <td>Humanities with Arts</td>\n",
       "    </tr>\n",
       "  </tbody>\n",
       "</table>\n",
       "</div>"
      ],
      "text/plain": [
       "   Interest  Qualifications  Courses done  Skills  Want to pursue  \\\n",
       "0         7               1             4       9              16   \n",
       "1         1               0             2      14              15   \n",
       "2         9               0            13      16               8   \n",
       "3         2               0             5       7              12   \n",
       "4         0               1             9       8              13   \n",
       "\n",
       "  Future career path (subject to be taken)  \n",
       "0                               Humanities  \n",
       "1                                      PCB  \n",
       "2                              CS with PCM  \n",
       "3                                 Commerce  \n",
       "4                     Humanities with Arts  "
      ]
     },
     "execution_count": 34,
     "metadata": {},
     "output_type": "execute_result"
    }
   ],
   "source": [
    "df.head()"
   ]
  },
  {
   "cell_type": "code",
   "execution_count": 35,
   "id": "0a70461b",
   "metadata": {},
   "outputs": [
    {
     "data": {
      "text/plain": [
       "0     7\n",
       "1     1\n",
       "2     9\n",
       "3     2\n",
       "4     0\n",
       "5     5\n",
       "6     4\n",
       "7     8\n",
       "8     6\n",
       "9     3\n",
       "10    7\n",
       "11    1\n",
       "12    9\n",
       "13    2\n",
       "14    5\n",
       "15    4\n",
       "16    0\n",
       "17    6\n",
       "18    7\n",
       "19    1\n",
       "20    9\n",
       "21    2\n",
       "22    5\n",
       "23    4\n",
       "24    0\n",
       "25    6\n",
       "Name: Interest, dtype: int32"
      ]
     },
     "execution_count": 35,
     "metadata": {},
     "output_type": "execute_result"
    }
   ],
   "source": [
    "df[\"Interest\"]"
   ]
  },
  {
   "cell_type": "code",
   "execution_count": 36,
   "id": "9884bac3",
   "metadata": {},
   "outputs": [
    {
     "data": {
      "text/plain": [
       "array(['Humanities', 'PCB', 'CS with PCM', 'Commerce',\n",
       "       'Humanities with Arts', 'PCM', 'Physical Education',\n",
       "       'Humanities with Design', 'Psychology', 'International Relations',\n",
       "       'Biotechnology', 'Advanced CS', 'Business Administration',\n",
       "       'Artificial Intelligence', 'Applied Mathematics',\n",
       "       'Multimedia Arts', 'Materials Science'], dtype=object)"
      ]
     },
     "execution_count": 36,
     "metadata": {},
     "output_type": "execute_result"
    }
   ],
   "source": [
    "df[\"Future career path (subject to be taken)\"].unique()"
   ]
  },
  {
   "cell_type": "code",
   "execution_count": 37,
   "id": "3b006999",
   "metadata": {},
   "outputs": [],
   "source": [
    "x= df.drop(\"Future career path (subject to be taken)\", axis=1)\n",
    "y = df[\"Future career path (subject to be taken)\"]"
   ]
  },
  {
   "cell_type": "code",
   "execution_count": 38,
   "id": "2038f039",
   "metadata": {},
   "outputs": [],
   "source": [
    "from sklearn.model_selection import train_test_split\n",
    "x_train, x_test, y_train, y_test = train_test_split(x, y, test_size=0.2, random_state=42)"
   ]
  },
  {
   "cell_type": "code",
   "execution_count": 39,
   "id": "bde3f93a",
   "metadata": {},
   "outputs": [
    {
     "name": "stdout",
     "output_type": "stream",
     "text": [
      "Accuracy: 0.0\n",
      "Classification Report:\n",
      "                         precision    recall  f1-score   support\n",
      "\n",
      "         Biotechnology       0.00      0.00      0.00       0.0\n",
      "           CS with PCM       0.00      0.00      0.00       0.0\n",
      "              Commerce       0.00      0.00      0.00       0.0\n",
      "            Humanities       0.00      0.00      0.00       1.0\n",
      "  Humanities with Arts       0.00      0.00      0.00       1.0\n",
      "Humanities with Design       0.00      0.00      0.00       1.0\n",
      "       Multimedia Arts       0.00      0.00      0.00       1.0\n",
      "                   PCB       0.00      0.00      0.00       1.0\n",
      "                   PCM       0.00      0.00      0.00       1.0\n",
      "    Physical Education       0.00      0.00      0.00       0.0\n",
      "\n",
      "              accuracy                           0.00       6.0\n",
      "             macro avg       0.00      0.00      0.00       6.0\n",
      "          weighted avg       0.00      0.00      0.00       6.0\n",
      "\n"
     ]
    },
    {
     "name": "stderr",
     "output_type": "stream",
     "text": [
      "C:\\Users\\maste\\AppData\\Roaming\\Python\\Python312\\site-packages\\sklearn\\metrics\\_classification.py:1531: UndefinedMetricWarning: Precision is ill-defined and being set to 0.0 in labels with no predicted samples. Use `zero_division` parameter to control this behavior.\n",
      "  _warn_prf(average, modifier, f\"{metric.capitalize()} is\", len(result))\n",
      "C:\\Users\\maste\\AppData\\Roaming\\Python\\Python312\\site-packages\\sklearn\\metrics\\_classification.py:1531: UndefinedMetricWarning: Recall is ill-defined and being set to 0.0 in labels with no true samples. Use `zero_division` parameter to control this behavior.\n",
      "  _warn_prf(average, modifier, f\"{metric.capitalize()} is\", len(result))\n",
      "C:\\Users\\maste\\AppData\\Roaming\\Python\\Python312\\site-packages\\sklearn\\metrics\\_classification.py:1531: UndefinedMetricWarning: Precision is ill-defined and being set to 0.0 in labels with no predicted samples. Use `zero_division` parameter to control this behavior.\n",
      "  _warn_prf(average, modifier, f\"{metric.capitalize()} is\", len(result))\n",
      "C:\\Users\\maste\\AppData\\Roaming\\Python\\Python312\\site-packages\\sklearn\\metrics\\_classification.py:1531: UndefinedMetricWarning: Recall is ill-defined and being set to 0.0 in labels with no true samples. Use `zero_division` parameter to control this behavior.\n",
      "  _warn_prf(average, modifier, f\"{metric.capitalize()} is\", len(result))\n",
      "C:\\Users\\maste\\AppData\\Roaming\\Python\\Python312\\site-packages\\sklearn\\metrics\\_classification.py:1531: UndefinedMetricWarning: Precision is ill-defined and being set to 0.0 in labels with no predicted samples. Use `zero_division` parameter to control this behavior.\n",
      "  _warn_prf(average, modifier, f\"{metric.capitalize()} is\", len(result))\n",
      "C:\\Users\\maste\\AppData\\Roaming\\Python\\Python312\\site-packages\\sklearn\\metrics\\_classification.py:1531: UndefinedMetricWarning: Recall is ill-defined and being set to 0.0 in labels with no true samples. Use `zero_division` parameter to control this behavior.\n",
      "  _warn_prf(average, modifier, f\"{metric.capitalize()} is\", len(result))\n"
     ]
    }
   ],
   "source": [
    "from sklearn.tree import DecisionTreeClassifier\n",
    "# model = DecisionTreeClassifier()\n",
    "from sklearn.ensemble import RandomForestClassifier\n",
    "model = RandomForestClassifier(n_estimators=100, random_state=42)\n",
    "model.fit(x_train, y_train)\n",
    "y_pred = model.predict(x_test)\n",
    "from sklearn.metrics import accuracy_score, classification_report, confusion_matrix\n",
    "print(\"Accuracy:\", accuracy_score(y_test, y_pred))\n",
    "print(\"Classification Report:\\n\", classification_report(y_test, y_pred))"
   ]
  },
  {
   "cell_type": "code",
   "execution_count": 40,
   "id": "6204213a",
   "metadata": {},
   "outputs": [],
   "source": [
    "import pickle\n",
    "with open('decision_tree_model.pkl', 'wb') as f:\n",
    "    pickle.dump(model, f)"
   ]
  },
  {
   "cell_type": "code",
   "execution_count": 41,
   "id": "8ec0384b",
   "metadata": {},
   "outputs": [
    {
     "data": {
      "text/plain": [
       "['career_path_model.pkl']"
      ]
     },
     "execution_count": 41,
     "metadata": {},
     "output_type": "execute_result"
    }
   ],
   "source": [
    "from joblib import dump, load\n",
    "dump(model, 'career_path_model.pkl')"
   ]
  },
  {
   "cell_type": "code",
   "execution_count": null,
   "id": "554f8efd",
   "metadata": {},
   "outputs": [],
   "source": []
  }
 ],
 "metadata": {
  "kernelspec": {
   "display_name": "Python 3",
   "language": "python",
   "name": "python3"
  },
  "language_info": {
   "codemirror_mode": {
    "name": "ipython",
    "version": 3
   },
   "file_extension": ".py",
   "mimetype": "text/x-python",
   "name": "python",
   "nbconvert_exporter": "python",
   "pygments_lexer": "ipython3",
   "version": "3.12.10"
  }
 },
 "nbformat": 4,
 "nbformat_minor": 5
}
