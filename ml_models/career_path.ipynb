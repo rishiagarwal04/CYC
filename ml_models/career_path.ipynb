{
 "cells": [
  {
   "cell_type": "code",
   "execution_count": 42,
   "id": "39a39364",
   "metadata": {},
   "outputs": [],
   "source": [
    "import numpy as np \n",
    "import matplotlib.pyplot as plt\n",
    "import pandas as pd"
   ]
  },
  {
   "cell_type": "code",
   "execution_count": 43,
   "id": "b59dad0f",
   "metadata": {},
   "outputs": [],
   "source": [
    "df = pd.read_csv(\"extended_career_dataset_9_10_students.csv\")"
   ]
  },
  {
   "cell_type": "code",
   "execution_count": 44,
   "id": "1707900c",
   "metadata": {},
   "outputs": [
    {
     "data": {
      "text/html": [
       "<div>\n",
       "<style scoped>\n",
       "    .dataframe tbody tr th:only-of-type {\n",
       "        vertical-align: middle;\n",
       "    }\n",
       "\n",
       "    .dataframe tbody tr th {\n",
       "        vertical-align: top;\n",
       "    }\n",
       "\n",
       "    .dataframe thead th {\n",
       "        text-align: right;\n",
       "    }\n",
       "</style>\n",
       "<table border=\"1\" class=\"dataframe\">\n",
       "  <thead>\n",
       "    <tr style=\"text-align: right;\">\n",
       "      <th></th>\n",
       "      <th>Interest</th>\n",
       "      <th>Qualifications</th>\n",
       "      <th>Courses done</th>\n",
       "      <th>Skills</th>\n",
       "      <th>Want to pursue</th>\n",
       "      <th>Future career path (subject to be taken)</th>\n",
       "    </tr>\n",
       "  </thead>\n",
       "  <tbody>\n",
       "    <tr>\n",
       "      <th>0</th>\n",
       "      <td>Social Work</td>\n",
       "      <td>9th Grade</td>\n",
       "      <td>Civics Workshop</td>\n",
       "      <td>Empathy</td>\n",
       "      <td>NGO Work</td>\n",
       "      <td>Humanities</td>\n",
       "    </tr>\n",
       "    <tr>\n",
       "      <th>1</th>\n",
       "      <td>Biology</td>\n",
       "      <td>10th Grade</td>\n",
       "      <td>Biology Basics</td>\n",
       "      <td>Observation</td>\n",
       "      <td>Medical</td>\n",
       "      <td>PCB</td>\n",
       "    </tr>\n",
       "    <tr>\n",
       "      <th>2</th>\n",
       "      <td>Technology</td>\n",
       "      <td>10th Grade</td>\n",
       "      <td>Intro to Coding</td>\n",
       "      <td>Problem Solving</td>\n",
       "      <td>Computer Science</td>\n",
       "      <td>CS with PCM</td>\n",
       "    </tr>\n",
       "    <tr>\n",
       "      <th>3</th>\n",
       "      <td>Business</td>\n",
       "      <td>10th Grade</td>\n",
       "      <td>Commerce Introduction</td>\n",
       "      <td>Communication</td>\n",
       "      <td>Entrepreneurship</td>\n",
       "      <td>Commerce</td>\n",
       "    </tr>\n",
       "    <tr>\n",
       "      <th>4</th>\n",
       "      <td>Business</td>\n",
       "      <td>10th Grade</td>\n",
       "      <td>Commerce Introduction</td>\n",
       "      <td>Communication</td>\n",
       "      <td>Entrepreneurship</td>\n",
       "      <td>Commerce</td>\n",
       "    </tr>\n",
       "  </tbody>\n",
       "</table>\n",
       "</div>"
      ],
      "text/plain": [
       "      Interest Qualifications           Courses done           Skills  \\\n",
       "0  Social Work      9th Grade        Civics Workshop          Empathy   \n",
       "1      Biology     10th Grade         Biology Basics      Observation   \n",
       "2   Technology     10th Grade        Intro to Coding  Problem Solving   \n",
       "3     Business     10th Grade  Commerce Introduction    Communication   \n",
       "4     Business     10th Grade  Commerce Introduction    Communication   \n",
       "\n",
       "     Want to pursue Future career path (subject to be taken)  \n",
       "0          NGO Work                               Humanities  \n",
       "1           Medical                                      PCB  \n",
       "2  Computer Science                              CS with PCM  \n",
       "3  Entrepreneurship                                 Commerce  \n",
       "4  Entrepreneurship                                 Commerce  "
      ]
     },
     "execution_count": 44,
     "metadata": {},
     "output_type": "execute_result"
    }
   ],
   "source": [
    "df.head()"
   ]
  },
  {
   "cell_type": "code",
   "execution_count": 45,
   "id": "95d8ac8f",
   "metadata": {},
   "outputs": [
    {
     "data": {
      "text/plain": [
       "array(['Social Work', 'Biology', 'Technology', 'Business', 'Arts',\n",
       "       'Programming', 'Mathematics', 'Sports', 'Science', 'Design',\n",
       "       'Cooking', 'Tech'], dtype=object)"
      ]
     },
     "execution_count": 45,
     "metadata": {},
     "output_type": "execute_result"
    }
   ],
   "source": [
    "df[\"Interest\"].unique()"
   ]
  },
  {
   "cell_type": "code",
   "execution_count": 46,
   "id": "800e9695",
   "metadata": {},
   "outputs": [
    {
     "data": {
      "text/plain": [
       "array(['9th Grade', '10th Grade', \"Bachelor's\", 'Postgraduate',\n",
       "       'Undergraduate'], dtype=object)"
      ]
     },
     "execution_count": 46,
     "metadata": {},
     "output_type": "execute_result"
    }
   ],
   "source": [
    "df[\"Qualifications\"].unique()"
   ]
  },
  {
   "cell_type": "code",
   "execution_count": 47,
   "id": "47e612a5",
   "metadata": {},
   "outputs": [
    {
     "data": {
      "text/plain": [
       "array(['Civics Workshop', 'Biology Basics', 'Intro to Coding',\n",
       "       'Commerce Introduction', 'Drawing Course', 'Python Basics',\n",
       "       'Vedic Maths', 'Sports Training', 'Basic Science',\n",
       "       'Graphic Design Intro', 'Python'], dtype=object)"
      ]
     },
     "execution_count": 47,
     "metadata": {},
     "output_type": "execute_result"
    }
   ],
   "source": [
    "df[\"Courses done\"].unique()"
   ]
  },
  {
   "cell_type": "code",
   "execution_count": 48,
   "id": "46d21160",
   "metadata": {},
   "outputs": [
    {
     "data": {
      "text/plain": [
       "array(['Empathy', 'Observation', 'Problem Solving', 'Communication',\n",
       "       'Creativity', 'Coding', 'Logical Reasoning', 'Teamwork',\n",
       "       'Analytical Thinking', 'Aesthetic Sense'], dtype=object)"
      ]
     },
     "execution_count": 48,
     "metadata": {},
     "output_type": "execute_result"
    }
   ],
   "source": [
    "df[\"Skills\"].unique()"
   ]
  },
  {
   "cell_type": "code",
   "execution_count": 49,
   "id": "6c1c5e12",
   "metadata": {},
   "outputs": [
    {
     "data": {
      "text/plain": [
       "array(['NGO Work', 'Medical', 'Computer Science', 'Entrepreneurship',\n",
       "       'Fine Arts', 'Software Developer', 'Statistics', 'Athletics',\n",
       "       'Engineering', 'UX Designer', 'Something'], dtype=object)"
      ]
     },
     "execution_count": 49,
     "metadata": {},
     "output_type": "execute_result"
    }
   ],
   "source": [
    "df[\"Want to pursue\"].unique()"
   ]
  },
  {
   "cell_type": "code",
   "execution_count": 50,
   "id": "24cff3a2",
   "metadata": {},
   "outputs": [],
   "source": [
    "from sklearn.preprocessing import LabelEncoder\n",
    "le = LabelEncoder()\n",
    "columns = [\"Interest\" , \"Qualifications\" , \"Courses done\" , \"Skills\", \"Want to pursue\"]\n",
    "\n",
    "for items in columns:\n",
    "    df[items] = le.fit_transform(df[items])\n"
   ]
  },
  {
   "cell_type": "code",
   "execution_count": 51,
   "id": "90fd3027",
   "metadata": {},
   "outputs": [
    {
     "data": {
      "text/plain": [
       "(2300, 6)"
      ]
     },
     "execution_count": 51,
     "metadata": {},
     "output_type": "execute_result"
    }
   ],
   "source": [
    "df.shape"
   ]
  },
  {
   "cell_type": "code",
   "execution_count": 52,
   "id": "519984d4",
   "metadata": {},
   "outputs": [
    {
     "data": {
      "text/html": [
       "<div>\n",
       "<style scoped>\n",
       "    .dataframe tbody tr th:only-of-type {\n",
       "        vertical-align: middle;\n",
       "    }\n",
       "\n",
       "    .dataframe tbody tr th {\n",
       "        vertical-align: top;\n",
       "    }\n",
       "\n",
       "    .dataframe thead th {\n",
       "        text-align: right;\n",
       "    }\n",
       "</style>\n",
       "<table border=\"1\" class=\"dataframe\">\n",
       "  <thead>\n",
       "    <tr style=\"text-align: right;\">\n",
       "      <th></th>\n",
       "      <th>Interest</th>\n",
       "      <th>Qualifications</th>\n",
       "      <th>Courses done</th>\n",
       "      <th>Skills</th>\n",
       "      <th>Want to pursue</th>\n",
       "      <th>Future career path (subject to be taken)</th>\n",
       "    </tr>\n",
       "  </thead>\n",
       "  <tbody>\n",
       "    <tr>\n",
       "      <th>0</th>\n",
       "      <td>8</td>\n",
       "      <td>1</td>\n",
       "      <td>2</td>\n",
       "      <td>5</td>\n",
       "      <td>6</td>\n",
       "      <td>Humanities</td>\n",
       "    </tr>\n",
       "    <tr>\n",
       "      <th>1</th>\n",
       "      <td>1</td>\n",
       "      <td>0</td>\n",
       "      <td>1</td>\n",
       "      <td>7</td>\n",
       "      <td>5</td>\n",
       "      <td>PCB</td>\n",
       "    </tr>\n",
       "    <tr>\n",
       "      <th>2</th>\n",
       "      <td>11</td>\n",
       "      <td>0</td>\n",
       "      <td>6</td>\n",
       "      <td>8</td>\n",
       "      <td>1</td>\n",
       "      <td>CS with PCM</td>\n",
       "    </tr>\n",
       "    <tr>\n",
       "      <th>3</th>\n",
       "      <td>2</td>\n",
       "      <td>0</td>\n",
       "      <td>3</td>\n",
       "      <td>3</td>\n",
       "      <td>3</td>\n",
       "      <td>Commerce</td>\n",
       "    </tr>\n",
       "    <tr>\n",
       "      <th>4</th>\n",
       "      <td>2</td>\n",
       "      <td>0</td>\n",
       "      <td>3</td>\n",
       "      <td>3</td>\n",
       "      <td>3</td>\n",
       "      <td>Commerce</td>\n",
       "    </tr>\n",
       "  </tbody>\n",
       "</table>\n",
       "</div>"
      ],
      "text/plain": [
       "   Interest  Qualifications  Courses done  Skills  Want to pursue  \\\n",
       "0         8               1             2       5               6   \n",
       "1         1               0             1       7               5   \n",
       "2        11               0             6       8               1   \n",
       "3         2               0             3       3               3   \n",
       "4         2               0             3       3               3   \n",
       "\n",
       "  Future career path (subject to be taken)  \n",
       "0                               Humanities  \n",
       "1                                      PCB  \n",
       "2                              CS with PCM  \n",
       "3                                 Commerce  \n",
       "4                                 Commerce  "
      ]
     },
     "execution_count": 52,
     "metadata": {},
     "output_type": "execute_result"
    }
   ],
   "source": [
    "df.head()"
   ]
  },
  {
   "cell_type": "code",
   "execution_count": 53,
   "id": "0a70461b",
   "metadata": {},
   "outputs": [
    {
     "data": {
      "text/plain": [
       "0        8\n",
       "1        1\n",
       "2       11\n",
       "3        2\n",
       "4        2\n",
       "        ..\n",
       "2295     1\n",
       "2296     2\n",
       "2297     4\n",
       "2298     4\n",
       "2299     4\n",
       "Name: Interest, Length: 2300, dtype: int32"
      ]
     },
     "execution_count": 53,
     "metadata": {},
     "output_type": "execute_result"
    }
   ],
   "source": [
    "df[\"Interest\"]"
   ]
  },
  {
   "cell_type": "code",
   "execution_count": 54,
   "id": "9884bac3",
   "metadata": {},
   "outputs": [
    {
     "data": {
      "text/plain": [
       "array(['Humanities', 'PCB', 'CS with PCM', 'Commerce',\n",
       "       'Humanities with Arts', 'PCM', 'Physical Education',\n",
       "       'Humanities with Design', \"Bachelor's\", 'Social Work',\n",
       "       'Programming', 'Arts', 'Design', 'Biology', 'Sports', 'Tech',\n",
       "       'Mathematics', 'Cooking', 'Business', 'Technology', 'Science'],\n",
       "      dtype=object)"
      ]
     },
     "execution_count": 54,
     "metadata": {},
     "output_type": "execute_result"
    }
   ],
   "source": [
    "df[\"Future career path (subject to be taken)\"].unique()"
   ]
  },
  {
   "cell_type": "code",
   "execution_count": 55,
   "id": "3b006999",
   "metadata": {},
   "outputs": [],
   "source": [
    "x= df.drop(\"Future career path (subject to be taken)\", axis=1)\n",
    "y = df[\"Future career path (subject to be taken)\"]"
   ]
  },
  {
   "cell_type": "code",
   "execution_count": 56,
   "id": "2038f039",
   "metadata": {},
   "outputs": [],
   "source": [
    "from sklearn.model_selection import train_test_split\n",
    "x_train, x_test, y_train, y_test = train_test_split(x, y, test_size=0.2, random_state=42)"
   ]
  },
  {
   "cell_type": "code",
   "execution_count": 57,
   "id": "bde3f93a",
   "metadata": {},
   "outputs": [
    {
     "name": "stdout",
     "output_type": "stream",
     "text": [
      "Accuracy: 0.5869565217391305\n",
      "Classification Report:\n",
      "                         precision    recall  f1-score   support\n",
      "\n",
      "                  Arts       0.10      0.09      0.10        22\n",
      "            Bachelor's       1.00      1.00      1.00       188\n",
      "               Biology       0.11      0.08      0.09        13\n",
      "              Business       0.08      0.05      0.06        19\n",
      "           CS with PCM       1.00      1.00      1.00        11\n",
      "              Commerce       1.00      1.00      1.00         7\n",
      "               Cooking       0.20      0.12      0.15        26\n",
      "                Design       0.13      0.17      0.15        18\n",
      "            Humanities       1.00      1.00      1.00         5\n",
      "  Humanities with Arts       1.00      1.00      1.00         6\n",
      "Humanities with Design       1.00      1.00      1.00         7\n",
      "           Mathematics       0.21      0.18      0.19        17\n",
      "                   PCB       1.00      1.00      1.00         6\n",
      "                   PCM       1.00      1.00      1.00        13\n",
      "    Physical Education       1.00      1.00      1.00         8\n",
      "           Programming       0.06      0.09      0.07        23\n",
      "               Science       0.12      0.08      0.10        13\n",
      "           Social Work       0.00      0.00      0.00        10\n",
      "                Sports       0.08      0.06      0.07        18\n",
      "                  Tech       0.05      0.06      0.05        17\n",
      "            Technology       0.06      0.08      0.07        13\n",
      "\n",
      "              accuracy                           0.59       460\n",
      "             macro avg       0.49      0.48      0.48       460\n",
      "          weighted avg       0.59      0.59      0.59       460\n",
      "\n"
     ]
    }
   ],
   "source": [
    "from sklearn.tree import DecisionTreeClassifier\n",
    "# model = DecisionTreeClassifier()\n",
    "from sklearn.ensemble import RandomForestClassifier\n",
    "model = RandomForestClassifier(n_estimators=100, random_state=42)\n",
    "model.fit(x_train, y_train)\n",
    "y_pred = model.predict(x_test)\n",
    "from sklearn.metrics import accuracy_score, classification_report, confusion_matrix\n",
    "print(\"Accuracy:\", accuracy_score(y_test, y_pred))\n",
    "print(\"Classification Report:\\n\", classification_report(y_test, y_pred))"
   ]
  },
  {
   "cell_type": "code",
   "execution_count": 58,
   "id": "6204213a",
   "metadata": {},
   "outputs": [],
   "source": [
    "import pickle\n",
    "with open('decision_tree_model.pkl', 'wb') as f:\n",
    "    pickle.dump(model, f)"
   ]
  },
  {
   "cell_type": "code",
   "execution_count": 59,
   "id": "8ec0384b",
   "metadata": {},
   "outputs": [
    {
     "data": {
      "text/plain": [
       "['career_path_model.pkl']"
      ]
     },
     "execution_count": 59,
     "metadata": {},
     "output_type": "execute_result"
    }
   ],
   "source": [
    "from joblib import dump, load\n",
    "dump(model, 'career_path_model.pkl')"
   ]
  },
  {
   "cell_type": "code",
   "execution_count": null,
   "id": "554f8efd",
   "metadata": {},
   "outputs": [],
   "source": []
  }
 ],
 "metadata": {
  "kernelspec": {
   "display_name": "Python 3",
   "language": "python",
   "name": "python3"
  },
  "language_info": {
   "codemirror_mode": {
    "name": "ipython",
    "version": 3
   },
   "file_extension": ".py",
   "mimetype": "text/x-python",
   "name": "python",
   "nbconvert_exporter": "python",
   "pygments_lexer": "ipython3",
   "version": "3.12.10"
  }
 },
 "nbformat": 4,
 "nbformat_minor": 5
}
